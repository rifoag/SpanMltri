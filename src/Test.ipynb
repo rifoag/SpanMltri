{
 "cells": [
  {
   "cell_type": "markdown",
   "metadata": {},
   "source": [
    "# Test Base Encoder"
   ]
  },
  {
   "cell_type": "code",
   "execution_count": 1,
   "metadata": {},
   "outputs": [],
   "source": [
    "from BaseEncoder import BaseEncoder\n",
    "from transformers import AutoTokenizer, TFAutoModel"
   ]
  },
  {
   "cell_type": "code",
   "execution_count": 2,
   "metadata": {},
   "outputs": [],
   "source": [
    "sentence = 'Aku seorang kapiten'"
   ]
  },
  {
   "cell_type": "code",
   "execution_count": 3,
   "metadata": {},
   "outputs": [],
   "source": [
    "base_encoder = BaseEncoder()"
   ]
  },
  {
   "cell_type": "code",
   "execution_count": 4,
   "metadata": {},
   "outputs": [],
   "source": [
    "sample_tokenized = base_encoder.tokenize(['Aku', 'seorang', 'kapiten'])"
   ]
  },
  {
   "cell_type": "code",
   "execution_count": 5,
   "metadata": {},
   "outputs": [],
   "source": [
    "sample_encoded = base_encoder.encode(['Aku', 'seorang', 'kapiten'])"
   ]
  },
  {
   "cell_type": "code",
   "execution_count": 6,
   "metadata": {},
   "outputs": [
    {
     "data": {
      "text/plain": [
       "torch.Size([40])"
      ]
     },
     "execution_count": 6,
     "metadata": {},
     "output_type": "execute_result"
    }
   ],
   "source": [
    "sample_tokenized.shape"
   ]
  },
  {
   "cell_type": "markdown",
   "metadata": {},
   "source": [
    "# Data Loader"
   ]
  },
  {
   "cell_type": "code",
   "execution_count": 7,
   "metadata": {},
   "outputs": [],
   "source": [
    "from DataLoader import read_examples_from_file, ReviewDataset\n",
    "\n",
    "FILE_PATH = \"dataset/test_2k_output_Feb_26_2020_output_Feb_18_2021.tsv\""
   ]
  },
  {
   "cell_type": "code",
   "execution_count": 8,
   "metadata": {},
   "outputs": [],
   "source": [
    "test_data = ReviewDataset(FILE_PATH)"
   ]
  },
  {
   "cell_type": "code",
   "execution_count": 9,
   "metadata": {},
   "outputs": [
    {
     "data": {
      "text/plain": [
       "(tensor([    3,  4557,  9790,    16,  5093,  8015,  1501,  4501,  4683,    18,\n",
       "          1821, 14506,     1,  2677,  3868,    18,     4,     0,     0,     0,\n",
       "             0,     0,     0,     0,     0,     0,     0,     0,     0,     0,\n",
       "             0,     0,     0,     0,     0,     0,     0,     0,     0,     0]),\n",
       " tensor([[1., 0., 0., 0., 0.],\n",
       "         [0., 0., 1., 0., 0.],\n",
       "         [0., 0., 0., 0., 1.],\n",
       "         [1., 0., 0., 0., 0.],\n",
       "         [0., 0., 1., 0., 0.],\n",
       "         [0., 0., 0., 0., 1.],\n",
       "         [1., 0., 0., 0., 0.],\n",
       "         [0., 0., 1., 0., 0.],\n",
       "         [0., 0., 0., 0., 1.],\n",
       "         [0., 0., 0., 0., 1.],\n",
       "         [1., 0., 0., 0., 0.],\n",
       "         [0., 1., 0., 0., 0.],\n",
       "         [0., 0., 1., 0., 0.],\n",
       "         [0., 0., 0., 1., 0.],\n",
       "         [0., 0., 0., 0., 1.],\n",
       "         [0., 0., 0., 0., 1.],\n",
       "         [0., 0., 0., 0., 1.],\n",
       "         [0., 0., 0., 0., 1.],\n",
       "         [0., 0., 0., 0., 1.],\n",
       "         [0., 0., 0., 0., 1.],\n",
       "         [0., 0., 0., 0., 1.],\n",
       "         [0., 0., 0., 0., 1.],\n",
       "         [0., 0., 0., 0., 1.],\n",
       "         [0., 0., 0., 0., 1.],\n",
       "         [0., 0., 0., 0., 1.],\n",
       "         [0., 0., 0., 0., 1.],\n",
       "         [0., 0., 0., 0., 1.],\n",
       "         [0., 0., 0., 0., 1.],\n",
       "         [0., 0., 0., 0., 1.],\n",
       "         [0., 0., 0., 0., 1.],\n",
       "         [0., 0., 0., 0., 1.],\n",
       "         [0., 0., 0., 0., 1.],\n",
       "         [0., 0., 0., 0., 1.],\n",
       "         [0., 0., 0., 0., 1.],\n",
       "         [0., 0., 0., 0., 1.],\n",
       "         [0., 0., 0., 0., 1.],\n",
       "         [0., 0., 0., 0., 1.],\n",
       "         [0., 0., 0., 0., 1.],\n",
       "         [0., 0., 0., 0., 1.],\n",
       "         [0., 0., 0., 0., 1.]]))"
      ]
     },
     "execution_count": 9,
     "metadata": {},
     "output_type": "execute_result"
    }
   ],
   "source": [
    "test_data[0]"
   ]
  },
  {
   "cell_type": "code",
   "execution_count": 10,
   "metadata": {},
   "outputs": [],
   "source": [
    "from torch.utils.data import DataLoader\n",
    "\n",
    "test_dataloader = DataLoader(test_data, batch_size=2, shuffle=True)"
   ]
  },
  {
   "cell_type": "markdown",
   "metadata": {},
   "source": [
    "### Test to Batch"
   ]
  },
  {
   "cell_type": "code",
   "execution_count": 11,
   "metadata": {},
   "outputs": [],
   "source": [
    "from SpanGenerator import SpanGenerator\n",
    "span_generator = SpanGenerator()"
   ]
  },
  {
   "cell_type": "code",
   "execution_count": 12,
   "metadata": {},
   "outputs": [],
   "source": [
    "X, y = next(iter(test_dataloader))"
   ]
  },
  {
   "cell_type": "code",
   "execution_count": 13,
   "metadata": {},
   "outputs": [],
   "source": [
    "X_encoded = base_encoder.model(X)[0]"
   ]
  },
  {
   "cell_type": "code",
   "execution_count": 14,
   "metadata": {},
   "outputs": [],
   "source": [
    "X_spans, X_span_ranges = span_generator.generate_spans(X_encoded)"
   ]
  },
  {
   "cell_type": "code",
   "execution_count": 15,
   "metadata": {},
   "outputs": [
    {
     "data": {
      "text/plain": [
       "torch.Size([2, 292, 8, 768])"
      ]
     },
     "execution_count": 15,
     "metadata": {},
     "output_type": "execute_result"
    }
   ],
   "source": [
    "X_spans.shape"
   ]
  },
  {
   "cell_type": "markdown",
   "metadata": {},
   "source": [
    "# Test Model"
   ]
  },
  {
   "cell_type": "code",
   "execution_count": 16,
   "metadata": {},
   "outputs": [
    {
     "name": "stdout",
     "output_type": "stream",
     "text": [
      "Using cuda device\n"
     ]
    }
   ],
   "source": [
    "from SpanMltri import SpanMltri"
   ]
  },
  {
   "cell_type": "code",
   "execution_count": 17,
   "metadata": {},
   "outputs": [],
   "source": [
    "span_mltri = SpanMltri()"
   ]
  },
  {
   "cell_type": "code",
   "execution_count": 19,
   "metadata": {},
   "outputs": [],
   "source": [
    "term_scorer_logits = span_mltri(X)"
   ]
  },
  {
   "cell_type": "code",
   "execution_count": 21,
   "metadata": {},
   "outputs": [
    {
     "data": {
      "text/plain": [
       "tensor([[[0.0029, 0.0053, 0.0028, 0.0021, 0.0041],\n",
       "         [0.0021, 0.0031, 0.0022, 0.0014, 0.0028],\n",
       "         [0.0022, 0.0031, 0.0023, 0.0015, 0.0028],\n",
       "         ...,\n",
       "         [0.0026, 0.0034, 0.0027, 0.0020, 0.0032],\n",
       "         [0.0028, 0.0034, 0.0029, 0.0024, 0.0033],\n",
       "         [0.0031, 0.0034, 0.0031, 0.0028, 0.0034]],\n",
       "\n",
       "        [[0.0008, 0.0029, 0.0008, 0.0008, 0.0033],\n",
       "         [0.0021, 0.0031, 0.0022, 0.0014, 0.0028],\n",
       "         [0.0022, 0.0031, 0.0023, 0.0015, 0.0028],\n",
       "         ...,\n",
       "         [0.0026, 0.0034, 0.0027, 0.0020, 0.0032],\n",
       "         [0.0028, 0.0034, 0.0029, 0.0024, 0.0033],\n",
       "         [0.0031, 0.0034, 0.0031, 0.0028, 0.0034]],\n",
       "\n",
       "        [[0.0021, 0.0048, 0.0016, 0.0013, 0.0038],\n",
       "         [0.0021, 0.0031, 0.0022, 0.0014, 0.0028],\n",
       "         [0.0022, 0.0031, 0.0023, 0.0015, 0.0028],\n",
       "         ...,\n",
       "         [0.0026, 0.0034, 0.0027, 0.0020, 0.0032],\n",
       "         [0.0028, 0.0034, 0.0029, 0.0024, 0.0033],\n",
       "         [0.0031, 0.0034, 0.0031, 0.0028, 0.0034]],\n",
       "\n",
       "        ...,\n",
       "\n",
       "        [[0.0038, 0.0036, 0.0049, 0.0037, 0.0039],\n",
       "         [0.0043, 0.0036, 0.0051, 0.0039, 0.0041],\n",
       "         [0.0047, 0.0038, 0.0051, 0.0042, 0.0040],\n",
       "         ...,\n",
       "         [0.0051, 0.0038, 0.0059, 0.0058, 0.0039],\n",
       "         [0.0056, 0.0033, 0.0062, 0.0062, 0.0039],\n",
       "         [0.0061, 0.0033, 0.0067, 0.0072, 0.0040]],\n",
       "\n",
       "        [[0.0041, 0.0035, 0.0048, 0.0036, 0.0039],\n",
       "         [0.0045, 0.0037, 0.0049, 0.0038, 0.0039],\n",
       "         [0.0046, 0.0039, 0.0051, 0.0041, 0.0040],\n",
       "         ...,\n",
       "         [0.0052, 0.0032, 0.0057, 0.0054, 0.0038],\n",
       "         [0.0056, 0.0033, 0.0062, 0.0061, 0.0039],\n",
       "         [0.0063, 0.0032, 0.0066, 0.0069, 0.0041]],\n",
       "\n",
       "        [[0.0042, 0.0036, 0.0047, 0.0035, 0.0038],\n",
       "         [0.0044, 0.0038, 0.0049, 0.0038, 0.0039],\n",
       "         [0.0044, 0.0038, 0.0049, 0.0040, 0.0038],\n",
       "         ...,\n",
       "         [0.0052, 0.0033, 0.0057, 0.0052, 0.0038],\n",
       "         [0.0058, 0.0032, 0.0061, 0.0058, 0.0040],\n",
       "         [0.0061, 0.0035, 0.0061, 0.0067, 0.0043]]], grad_fn=<SelectBackward>)"
      ]
     },
     "execution_count": 21,
     "metadata": {},
     "output_type": "execute_result"
    }
   ],
   "source": [
    "term_scorer_logits[0]"
   ]
  },
  {
   "cell_type": "code",
   "execution_count": null,
   "metadata": {},
   "outputs": [],
   "source": []
  }
 ],
 "metadata": {
  "kernelspec": {
   "display_name": "Python 3",
   "language": "python",
   "name": "python3"
  },
  "language_info": {
   "codemirror_mode": {
    "name": "ipython",
    "version": 3
   },
   "file_extension": ".py",
   "mimetype": "text/x-python",
   "name": "python",
   "nbconvert_exporter": "python",
   "pygments_lexer": "ipython3",
   "version": "3.8.8"
  }
 },
 "nbformat": 4,
 "nbformat_minor": 4
}
