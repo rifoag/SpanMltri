{
 "cells": [
  {
   "cell_type": "code",
   "execution_count": 1,
   "metadata": {},
   "outputs": [
    {
     "name": "stdout",
     "output_type": "stream",
     "text": [
      "Using cuda device\n"
     ]
    }
   ],
   "source": [
    "from BaseEncoder import BaseEncoder\n",
    "from DataLoader import read_examples_from_file, ReviewDataset\n",
    "\n",
    "from transformers import AutoTokenizer, TFAutoModel\n",
    "import torch\n",
    "from torch import nn\n",
    "from torch.utils.data import DataLoader\n",
    "\n",
    "from SpanMltri import SpanMltri"
   ]
  },
  {
   "cell_type": "markdown",
   "metadata": {},
   "source": [
    "# Test Base Encoder"
   ]
  },
  {
   "cell_type": "code",
   "execution_count": 2,
   "metadata": {},
   "outputs": [],
   "source": [
    "sentence = 'Aku seorang kapiten'"
   ]
  },
  {
   "cell_type": "code",
   "execution_count": 3,
   "metadata": {},
   "outputs": [],
   "source": [
    "base_encoder = BaseEncoder()"
   ]
  },
  {
   "cell_type": "code",
   "execution_count": 4,
   "metadata": {},
   "outputs": [],
   "source": [
    "sample_tokenized = base_encoder.tokenize(['Aku', 'seorang', 'kapiten'])"
   ]
  },
  {
   "cell_type": "code",
   "execution_count": 5,
   "metadata": {},
   "outputs": [
    {
     "data": {
      "text/plain": [
       "torch.Size([40])"
      ]
     },
     "execution_count": 5,
     "metadata": {},
     "output_type": "execute_result"
    }
   ],
   "source": [
    "sample_tokenized.shape"
   ]
  },
  {
   "cell_type": "markdown",
   "metadata": {},
   "source": [
    "# Data Loader"
   ]
  },
  {
   "cell_type": "code",
   "execution_count": 6,
   "metadata": {},
   "outputs": [],
   "source": [
    "FILE_PATH = \"dataset/test_2k_output_Feb_26_2020_output_Feb_18_2021.tsv\""
   ]
  },
  {
   "cell_type": "code",
   "execution_count": 7,
   "metadata": {},
   "outputs": [],
   "source": [
    "test_data = ReviewDataset(FILE_PATH)"
   ]
  },
  {
   "cell_type": "markdown",
   "metadata": {},
   "source": [
    "# Test Model"
   ]
  },
  {
   "cell_type": "code",
   "execution_count": 8,
   "metadata": {},
   "outputs": [],
   "source": [
    "span_mltri = SpanMltri()"
   ]
  },
  {
   "cell_type": "code",
   "execution_count": 9,
   "metadata": {},
   "outputs": [
    {
     "name": "stdout",
     "output_type": "stream",
     "text": [
      "loss: 1.035773  [    0/  200]\n",
      "loss: 1.074543  [   16/  200]\n",
      "loss: 0.891284  [   32/  200]\n",
      "loss: 1.035048  [   48/  200]\n",
      "loss: 0.985451  [   64/  200]\n",
      "loss: 0.985459  [   80/  200]\n",
      "loss: 0.985459  [   96/  200]\n",
      "loss: 0.985456  [  112/  200]\n",
      "loss: 0.985456  [  128/  200]\n",
      "loss: 0.985456  [  144/  200]\n",
      "loss: 0.985456  [  160/  200]\n",
      "loss: 0.985456  [  176/  200]\n",
      "loss: 0.985455  [  192/  200]\n",
      "Wall time: 2min 58s\n"
     ]
    }
   ],
   "source": [
    "%%time \n",
    "\n",
    "BATCH_SIZE = 8\n",
    "test_dataloader = DataLoader(test_data, batch_size=BATCH_SIZE, shuffle=True)\n",
    "\n",
    "loss_fn = nn.CrossEntropyLoss()\n",
    "optimizer = torch.optim.Adam(span_mltri.parameters(), lr=0.005)\n",
    "\n",
    "lambda_t = 0.5\n",
    "lambda_r = 0.5\n",
    "\n",
    "size = len(test_dataloader.dataset)\n",
    "for batch, X in enumerate(test_dataloader):\n",
    "    current_te_label_list = test_data.te_label_list[(batch)*BATCH_SIZE:(batch+1)*BATCH_SIZE]\n",
    "    current_relations = test_data.relations[(batch)*BATCH_SIZE:(batch+1)*BATCH_SIZE]\n",
    "    \n",
    "    logits_term_scorer, span_ranges, logits_relation_scorer, span_pair_ranges = span_mltri(X)\n",
    "    \n",
    "    y_te_true = []\n",
    "    CURRENT_BATCH_SIZE = min(len(current_te_label_list), BATCH_SIZE)\n",
    "    for i in range(CURRENT_BATCH_SIZE):\n",
    "        y_ = []\n",
    "        for span_range in span_ranges:\n",
    "            if span_range in current_te_label_list[i]:\n",
    "                label = current_te_label_list[i][span_range]\n",
    "                if label == 'ASPECT':\n",
    "                    y_.append(1)\n",
    "                elif label == 'SENTIMENT':\n",
    "                    y_.append(2)\n",
    "            else: # label is O\n",
    "                y_.append(0)        \n",
    "        y_te_true.append(torch.Tensor(y_))\n",
    "    y_te_true = torch.stack(y_te_true)\n",
    "    y_te_true = y_te_true.to(torch.long)\n",
    "    \n",
    "    logits_term_scorer = logits_term_scorer.reshape(logits_term_scorer.shape[0]*logits_term_scorer.shape[1], logits_term_scorer.shape[-1])\n",
    "    y_te_true = y_te_true.reshape(-1)\n",
    "    te_loss = loss_fn(logits_term_scorer, y_te_true)\n",
    "    \n",
    "    y_paote_true = []\n",
    "    CURRENT_BATCH_SIZE = min(len(current_relations), BATCH_SIZE)\n",
    "    for i in range(CURRENT_BATCH_SIZE):\n",
    "        y_ = []\n",
    "        for span_pair_range in span_pair_ranges[i]:\n",
    "            if span_pair_range not in current_relations[i]:\n",
    "                y_.append(0)\n",
    "            else:\n",
    "                label = current_relations[i][span_pair_range]\n",
    "                if label == 'PO':\n",
    "                    y_.append(1)\n",
    "                elif label == 'NG':\n",
    "                    y_.append(2)\n",
    "                elif label == 'NT':\n",
    "                    y_.append(3)\n",
    "        y_paote_true.append(torch.Tensor(y_))\n",
    "    y_paote_true = torch.stack(y_paote_true)\n",
    "    y_paote_true = y_paote_true.to(torch.long)\n",
    "    \n",
    "    logits_relation_scorer = logits_relation_scorer.reshape(logits_relation_scorer.shape[0]*logits_relation_scorer.shape[1], logits_relation_scorer.shape[-1])\n",
    "    y_paote_true = y_paote_true.reshape(-1)\n",
    "    paote_loss = loss_fn(logits_relation_scorer, y_paote_true)\n",
    "    \n",
    "    total_loss = lambda_t*te_loss + lambda_r*paote_loss\n",
    "    \n",
    "    # Backpropagation\n",
    "    optimizer.zero_grad()\n",
    "    total_loss.backward()\n",
    "    optimizer.step()\n",
    "    \n",
    "    if batch % 2 == 0:\n",
    "        total_loss, current = total_loss.item(), batch * len(X)\n",
    "        print(f\"loss: {total_loss:>7f}  [{current:>5d}/{size:>5d}]\")"
   ]
  }
 ],
 "metadata": {
  "kernelspec": {
   "display_name": "Python 3",
   "language": "python",
   "name": "python3"
  },
  "language_info": {
   "codemirror_mode": {
    "name": "ipython",
    "version": 3
   },
   "file_extension": ".py",
   "mimetype": "text/x-python",
   "name": "python",
   "nbconvert_exporter": "python",
   "pygments_lexer": "ipython3",
   "version": "3.8.8"
  }
 },
 "nbformat": 4,
 "nbformat_minor": 4
}
